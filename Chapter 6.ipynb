{
 "cells": [
  {
   "cell_type": "code",
   "execution_count": 1,
   "metadata": {},
   "outputs": [
    {
     "name": "stdout",
     "output_type": "stream",
     "text": [
      "[(0 : 1 : 0), (0 : 4 : 1), (0 : 7 : 1), (1 : 4 : 1), (1 : 7 : 1), (4 : 0 : 1), (6 : 5 : 1), (6 : 6 : 1), (7 : 3 : 1), (7 : 8 : 1), (8 : 2 : 1), (8 : 9 : 1), (9 : 4 : 1), (9 : 7 : 1)]\n",
      "(7 : 8 : 1)\n"
     ]
    }
   ],
   "source": [
    "#Creates an elliptic curve\n",
    "E = EllipticCurve(GF(11), [0 , 1, 0, 9, 5]) # y^2 = x^3 + a2*x^2 + a4*x + a5 \n",
    "                                            # a2=1, a4=9, a5=5 over F11\n",
    "# Gives points in the curve\n",
    "p = E.points() \n",
    "print(p)\n",
    "\n",
    "#Example of addition in the elliptic curve\n",
    "P= E(4,0,1)\n",
    "Q= E(0,7,1)\n",
    "print(P+Q) "
   ]
  },
  {
   "cell_type": "code",
   "execution_count": 9,
   "metadata": {
    "scrolled": true
   },
   "outputs": [
    {
     "name": "stdout",
     "output_type": "stream",
     "text": [
      "(6 : 730 : 1)\n",
      "Elliptic Curve Discrete Logarithm Problem: \n",
      "(3492 : 60 : 1)\n",
      "Diffie Hellman Key Exchange using Elliptic Curve\n"
     ]
    },
    {
     "data": {
      "text/plain": [
       "((2067 : 2178 : 1), (3684 : 3125 : 1), (3347 : 1242 : 1))"
      ]
     },
     "execution_count": 9,
     "metadata": {},
     "output_type": "execute_result"
    }
   ],
   "source": [
    "import chapter_6 as ch\n",
    "\n",
    "E = EllipticCurve(GF(3623), [0 , 0, 0, 14, 19]) # x^3 + 14x + 19\n",
    "\n",
    "# iterate in E\n",
    "for i in E.points():\n",
    "    if i[0]==6 and i[1]==730:\n",
    "        print(i)\n",
    "\n",
    "n= 947\n",
    "P = E(6,730)\n",
    "print(\"Elliptic Curve Discrete Logarithm Problem: \")\n",
    "print(ch.double_and_add(P, E, n))\n",
    "\n",
    "\n",
    "p = 3851\n",
    "E = EllipticCurve(GF(p), [0 , 0, 0, 324, 1287])\n",
    "\n",
    "P = E(920, 303)\n",
    "na = 1194\n",
    "nb = 1759\n",
    "print(\"Diffie Hellman Key Exchange using Elliptic Curve\")\n",
    "print(ch.public_key_diffie_hellman(P, na, nb))\n"
   ]
  },
  {
   "cell_type": "code",
   "execution_count": null,
   "metadata": {},
   "outputs": [],
   "source": [
    "P = E.gens()[0] # you can calculate the generator of this curve like this\n",
    "\n",
    "P.division_points(m) #Return a list of all points Q such that mQ=P"
   ]
  }
 ],
 "metadata": {
  "kernelspec": {
   "display_name": "SageMath 9.0",
   "language": "sage",
   "name": "sagemath"
  },
  "language_info": {
   "codemirror_mode": {
    "name": "ipython",
    "version": 3
   },
   "file_extension": ".py",
   "mimetype": "text/x-python",
   "name": "python",
   "nbconvert_exporter": "python",
   "pygments_lexer": "ipython3",
   "version": "3.8.5"
  }
 },
 "nbformat": 4,
 "nbformat_minor": 4
}
