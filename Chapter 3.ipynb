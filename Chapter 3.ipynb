{
 "cells": [
  {
   "cell_type": "code",
   "execution_count": 120,
   "metadata": {},
   "outputs": [
    {
     "name": "stdout",
     "output_type": "stream",
     "text": [
      "319\n"
     ]
    }
   ],
   "source": [
    "def babystep_giantstep(g, h, p): \n",
    "    # Solves g^x = h (modulo p) for x, for p prime.  \n",
    "    # TODO: check if works with p not prime\n",
    "    \n",
    "    n =  1 + floor(sqrt(p-1))\n",
    "    \n",
    "    pows = {i : pow(g, i ,p) for i in range(n+1)} #create dict {e,g,g^2,...,g^n}\n",
    "    pows2 = {j : ((h * pow(g,-n*j)) % p) for j in range(n+1)} #create dict {h, h*g^(-n), h*g^(-2n),.. h*g^(-n^2)}\n",
    "    \n",
    "    #Find a match between two dicts \n",
    "    for i,val in pows.items():\n",
    "        for j, val2 in pows2.items():\n",
    "            if val == val2:\n",
    "                return i+j*n\n",
    "    \n",
    "    return None    \n",
    "\n",
    "print(babystep_giantstep(650,2213,3571))"
   ]
  },
  {
   "cell_type": "code",
   "execution_count": 79,
   "metadata": {},
   "outputs": [
    {
     "name": "stdout",
     "output_type": "stream",
     "text": [
      "exit 2\n",
      "1\n",
      "False\n"
     ]
    }
   ],
   "source": [
    "def miller_rabin(a,n): \n",
    "    # Checks if 'a' is a Miller-Rabin witness for compositeness of 'n'\n",
    "    \n",
    "    if n == 2: \n",
    "        return False\n",
    "    if n % 2 == 0 or math.gcd(a,n) > 1:\n",
    "        return True\n",
    "    \n",
    "    # Write n-1 = 2^k*q with q odd.\n",
    "    k = 0; q = n - 1\n",
    "    while q % 2 == 0:\n",
    "        k += 1; q /= 2\n",
    "    \n",
    "    # Sage converts q & n to its own types. Convert back to use built-in pow\n",
    "    q = int(q); n = int(n)\n",
    "    l = pow(a,q,n)\n",
    "    \n",
    "    if l % n == 1: \n",
    "        print(\"exit 1\")\n",
    "        return False\n",
    "    \n",
    "    for i in range(k):\n",
    "        if l % n == n-1:\n",
    "            print(\"exit 2\")\n",
    "            print(k)\n",
    "            return False\n",
    "        l = (l*l) % n\n",
    "    \n",
    "    return True\n",
    "\n",
    "\n",
    "print(miller_rabin(29,118901527))"
   ]
  },
  {
   "cell_type": "code",
   "execution_count": 2,
   "metadata": {},
   "outputs": [
    {
     "name": "stdout",
     "output_type": "stream",
     "text": [
      "[(0 : 1 : 0), (0 : 4 : 1), (0 : 7 : 1), (1 : 4 : 1), (1 : 7 : 1), (4 : 0 : 1), (6 : 5 : 1), (6 : 6 : 1), (7 : 3 : 1), (7 : 8 : 1), (8 : 2 : 1), (8 : 9 : 1), (9 : 4 : 1), (9 : 7 : 1)]\n"
     ]
    }
   ],
   "source": [
    "E = EllipticCurve(GF(11), [0 , 1, 0, 9, 5])\n",
    "p = E.points()\n",
    "print(p)"
   ]
  },
  {
   "cell_type": "code",
   "execution_count": 16,
   "metadata": {},
   "outputs": [
    {
     "name": "stdout",
     "output_type": "stream",
     "text": [
      "11629\n"
     ]
    }
   ],
   "source": [
    "print(pow(37,1967,72*166))"
   ]
  },
  {
   "cell_type": "code",
   "execution_count": 1,
   "metadata": {
    "scrolled": true
   },
   "outputs": [
    {
     "name": "stdout",
     "output_type": "stream",
     "text": [
      "19368558\n"
     ]
    }
   ],
   "source": [
    "print(math.gcd(16784693*10988423-1,11514115*25910155-1))"
   ]
  },
  {
   "cell_type": "code",
   "execution_count": null,
   "metadata": {},
   "outputs": [],
   "source": [
    "def ec_inv(P):\n",
    "    \"\"\"\n",
    "    Inverse of the point P on the elliptic curve y^2 = x^3 + ax + b.\n",
    "    \"\"\"\n",
    "    if P == O:\n",
    "        return P\n",
    "    return Point(P.x, (-P.y)%p)\n",
    "\n",
    "def ec_add(P, Q):\n",
    "    \"\"\"\n",
    "    Sum of the points P and Q on the elliptic curve y^2 = x^3 + ax + b.\n",
    "    \"\"\"\n",
    "    if not (valid(P) and valid(Q)):\n",
    "        raise ValueError(\"Invalid inputs\")\n",
    "\n",
    "    # Deal with the special cases where either P, Q, or P + Q is\n",
    "    # the origin.\n",
    "    if P == O:\n",
    "        result = Q\n",
    "    elif Q == O:\n",
    "        result = P\n",
    "    elif Q == ec_inv(P):\n",
    "        result = O\n",
    "    else:\n",
    "        # Cases not involving the origin.\n",
    "        if P == Q:\n",
    "            dydx = (3 * P.x**2 + a) * inv_mod_p(2 * P.y)\n",
    "        else:\n",
    "            dydx = (Q.y - P.y) * inv_mod_p(Q.x - P.x)\n",
    "        x = (dydx**2 - P.x - Q.x) % p\n",
    "        y = (dydx * (P.x - x) - P.y) % p\n",
    "        result = Point(x, y)\n",
    "\n",
    "    # The above computations *should* have given us another point\n",
    "    # on the curve.\n",
    "    assert valid(result)\n",
    "    return result"
   ]
  }
 ],
 "metadata": {
  "kernelspec": {
   "display_name": "SageMath 9.0",
   "language": "sage",
   "name": "sagemath"
  },
  "language_info": {
   "codemirror_mode": {
    "name": "ipython",
    "version": 3
   },
   "file_extension": ".py",
   "mimetype": "text/x-python",
   "name": "python",
   "nbconvert_exporter": "python",
   "pygments_lexer": "ipython3",
   "version": "3.8.5"
  }
 },
 "nbformat": 4,
 "nbformat_minor": 4
}
