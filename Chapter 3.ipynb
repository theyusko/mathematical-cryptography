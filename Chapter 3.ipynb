{
 "cells": [
  {
   "cell_type": "code",
   "execution_count": 6,
   "metadata": {},
   "outputs": [
    {
     "name": "stdout",
     "output_type": "stream",
     "text": [
      "Babystep Giantstep:\n",
      "319\n",
      "\n",
      "Miller Rabin Test for Compositeness:\n",
      "False\n",
      "Prime: \n",
      "True\n",
      "\n",
      "RSA Public Key Cryptosystem:\n",
      "p:44696960353293022930656115506157792601955887808881\tq:13357443022288410274183818947236397322407881939817\te:3\n",
      "12341\n",
      "\n",
      "Pollard's p-1 Factorization:\n",
      "3823\n"
     ]
    }
   ],
   "source": [
    "import chapter_3 as ch\n",
    "\n",
    "print(\"Babystep Giantstep:\")\n",
    "print(ch.babystep_giantstep(650,2213,3571))\n",
    "\n",
    "print(\"\\nMiller Rabin Test for Compositeness:\")\n",
    "print(ch.miller_rabin(29,118901527))\n",
    "\n",
    "print(\"\\nPrime: \")\n",
    "print(is_prime(65537))\n",
    "\n",
    "print(\"\\nRSA Public Key Cryptosystem:\")\n",
    "p,q,e = ch.rsa_create_key(100,None,None,3)\n",
    "print(\"p:\"+ str(p) + \"\\tq:\" + str(q) + \"\\te:\" + str(e))\n",
    "m = 12341\n",
    "print(ch.rsa_decrypt(ch.rsa_encrypt(m, p*q, e), p, q, e))\n",
    "\n",
    "print(\"\\nPollard's p-1 Factorization:\")\n",
    "print(ch.pollards_factorization(13927189))\n"
   ]
  },
  {
   "cell_type": "code",
   "execution_count": null,
   "metadata": {},
   "outputs": [],
   "source": []
  }
 ],
 "metadata": {
  "kernelspec": {
   "display_name": "SageMath 9.0",
   "language": "sage",
   "name": "sagemath"
  },
  "language_info": {
   "codemirror_mode": {
    "name": "ipython",
    "version": 3
   },
   "file_extension": ".py",
   "mimetype": "text/x-python",
   "name": "python",
   "nbconvert_exporter": "python",
   "pygments_lexer": "ipython3",
   "version": "3.8.5"
  }
 },
 "nbformat": 4,
 "nbformat_minor": 4
}
