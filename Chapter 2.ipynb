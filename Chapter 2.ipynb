{
 "cells": [
  {
   "cell_type": "code",
   "execution_count": null,
   "metadata": {},
   "outputs": [],
   "source": [
    "import random\n",
    "# Diffie-Hellman key Exchange\n",
    "    \n",
    "def public_key_diffie_hellman(g,a,b,p):\n",
    "    A = power_mod(g,a,p) #Alice public key\n",
    "    B = power_mod(g,b,p)  #Bob's public key\n",
    "    C = power_mod(A,b,p)   #Private key for Bob and Alice\n",
    "    A1 = power_mod(C,-1,p)  #Decryption key \n",
    "    return(A,B,C,A1)\n",
    "\n",
    "\n",
    "def encryption_diffie_hellman(C,m,p):\n",
    "    e = Mod(C*m,p)\n",
    "    return e\n",
    "    \n",
    "def decryption_diffie_hellman(A1,e,p):\n",
    "    m = Mod(A1*e,p)\n",
    "    return m\n",
    "\n",
    "\n",
    "\n",
    "\n",
    "# Elgamel key exchange\n",
    "\n",
    "def public_key_elgamal(g,a,p):\n",
    "    A = power_mod(g,a,p) #Alice public key\n",
    "    return A\n",
    "        \n",
    "    \n",
    "\n",
    "def encrypt_elgamal(A,g,m,p):\n",
    "    k = random.randrange(p)\n",
    "    c1 = power_mod(g,k,p)\n",
    "    c2 = power_mod(A,k,p)\n",
    "    c2 = Mod(m*c2,p)\n",
    "    return (c1,c2)\n",
    "\n",
    "    \n",
    "def decrypt_elgamel(c1,c2,a,p):\n",
    "    Ak = power_mod(c1,a,p)\n",
    "    A2 = power_mod(Ak,-1,p)\n",
    "    m = Mod(A2*c2,p)\n",
    "    return m\n",
    "\n",
    "\n",
    "# Chinese remainder theorem\n",
    "\n",
    "x = crt(a,b,m,n)   #  x ≡ a (mod m) and x ≡ b (mod n) \n",
    "\n",
    "\n",
    "\n",
    "# Pohlig–Hellman Algorithm\n",
    "\n",
    "\n",
    "\n",
    "\n"
   ]
  },
  {
   "cell_type": "code",
   "execution_count": null,
   "metadata": {},
   "outputs": [],
   "source": []
  }
 ],
 "metadata": {
  "kernelspec": {
   "display_name": "SageMath 9.1",
   "language": "sage",
   "name": "sagemath"
  },
  "language_info": {
   "codemirror_mode": {
    "name": "ipython",
    "version": 3
   },
   "file_extension": ".py",
   "mimetype": "text/x-python",
   "name": "python",
   "nbconvert_exporter": "python",
   "pygments_lexer": "ipython3",
   "version": "3.7.3"
  }
 },
 "nbformat": 4,
 "nbformat_minor": 2
}
